{
 "cells": [
  {
   "cell_type": "code",
   "execution_count": 3,
   "metadata": {},
   "outputs": [],
   "source": [
    "import numpy as np\n",
    "import pandas as pd\n",
    "import yfinance as yf"
   ]
  },
  {
   "cell_type": "code",
   "execution_count": 38,
   "metadata": {},
   "outputs": [
    {
     "data": {
      "text/plain": [
       "Date\n",
       "2010-10-29     64.446594\n",
       "2010-11-01     64.262939\n",
       "2010-11-02     64.890427\n",
       "2010-11-03     65.273041\n",
       "2010-11-04     66.604523\n",
       "                 ...    \n",
       "2020-10-23    169.800003\n",
       "2020-10-26    166.160004\n",
       "2020-10-27    161.029999\n",
       "2020-10-28    158.529999\n",
       "2020-10-29    158.360001\n",
       "Name: Close, Length: 2518, dtype: float64"
      ]
     },
     "execution_count": 38,
     "metadata": {},
     "output_type": "execute_result"
    }
   ],
   "source": [
    "#test\n",
    "ticker = \"MMM\"\n",
    "yf.Ticker(ticker).history(period=\"10y\")[\"Close\"]"
   ]
  },
  {
   "cell_type": "code",
   "execution_count": 17,
   "metadata": {},
   "outputs": [],
   "source": [
    "comapny_list = pd.read_csv(\"constituents.csv\")"
   ]
  },
  {
   "cell_type": "code",
   "execution_count": 30,
   "metadata": {},
   "outputs": [
    {
     "name": "stdout",
     "output_type": "stream",
     "text": [
      "['Health_Care', 'Consumer_Discretionary', 'Materials', 'Financials', 'Information_Technology', 'Energy', 'Industrials', 'Real_Estate', 'Communication_Services', 'Consumer_Staples', 'Utilities']\n"
     ]
    }
   ],
   "source": [
    "sector_list = []\n",
    "for sector in company_list[\"Sector\"]:\n",
    "    sector_list.append(sector)\n",
    "sector_list = list(set(sector_list))\n",
    "\n",
    "for i in range(0, len(sector_list)):\n",
    "    sector_list[i] = sector_list[i].replace(\" \", \"_\")\n",
    "\n",
    "for sector in sector_list:\n",
    "    exec(sector+\" = pd.DataFrame()\")\n",
    "    \n",
    "print(sector_list)"
   ]
  },
  {
   "cell_type": "code",
   "execution_count": null,
   "metadata": {},
   "outputs": [
    {
     "name": "stdout",
     "output_type": "stream",
     "text": [
      "AOS Failed\n",
      "ABT Failed\n",
      "ABBV Failed\n",
      "ABMD Failed\n",
      "ACN Failed\n",
      "ATVI Failed\n",
      "ADBE Failed\n",
      "AAP Failed\n",
      "AMD Failed\n",
      "A Failed\n",
      "AKAM Failed\n",
      "ARE Failed\n",
      "ALXN Failed\n",
      "ALGN Failed\n",
      "ADS Failed\n",
      "GOOGL Failed\n",
      "GOOG Failed\n",
      "MO Failed\n",
      "AMZN Failed\n",
      "AMT Failed\n",
      "ABC Failed\n",
      "AMGN Failed\n",
      "APH Failed\n",
      "ADI Failed\n",
      "ANSS Failed\n",
      "ANTM Failed\n",
      "AIV Failed\n",
      "AAPL Failed\n",
      "AMAT Failed\n",
      "APTV Failed\n",
      "ADM Failed\n",
      "ANET Failed\n",
      "T Failed\n",
      "ADSK Failed\n",
      "ADP Failed\n",
      "AZO Failed\n",
      "AVB Failed\n",
      "BAC Failed\n",
      "BAX Failed\n",
      "BDX Failed\n",
      "- BRK.B: No data found, symbol may be delisted\n",
      "BBY Failed\n",
      "BIIB Failed\n",
      "BKNG Failed\n",
      "BWA Failed\n",
      "BXP Failed\n",
      "BSX Failed\n",
      "BMY Failed\n",
      "AVGO Failed\n",
      "BR Failed\n",
      "BF.B Failed\n",
      "CDNS Failed\n",
      "CPB Failed\n",
      "CAH Failed\n",
      "KMX Failed\n",
      "CCL Failed\n",
      "CARR Failed\n",
      "CBRE Failed\n",
      "CDW Failed\n",
      "CNC Failed\n",
      "CTL Failed\n",
      "CERN Failed\n",
      "CHTR Failed\n",
      "CMG Failed\n",
      "CHD Failed\n",
      "CI Failed\n",
      "CSCO Failed\n",
      "CTXS Failed\n",
      "KO Failed\n",
      "CTSH Failed\n",
      "CL Failed\n",
      "CMCSA Failed\n",
      "CAG Failed\n"
     ]
    }
   ],
   "source": [
    "for i in range(0, len(company_list)):\n",
    "        ticker = company_list[\"Symbol\"].iloc[i]\n",
    "        sector = company_list[\"Sector\"].iloc[i]\n",
    "        try:\n",
    "            exec(sector+\"['\"+ticker+\"'] = yf.Ticker(ticker).history(period='10y')['Close']\")\n",
    "        except:\n",
    "            print(ticker+\" Failed\")"
   ]
  },
  {
   "cell_type": "code",
   "execution_count": null,
   "metadata": {},
   "outputs": [],
   "source": []
  }
 ],
 "metadata": {
  "kernelspec": {
   "display_name": "Python 3",
   "language": "python",
   "name": "python3"
  },
  "language_info": {
   "codemirror_mode": {
    "name": "ipython",
    "version": 3
   },
   "file_extension": ".py",
   "mimetype": "text/x-python",
   "name": "python",
   "nbconvert_exporter": "python",
   "pygments_lexer": "ipython3",
   "version": "3.8.5"
  }
 },
 "nbformat": 4,
 "nbformat_minor": 4
}
